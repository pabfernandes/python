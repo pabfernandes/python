{
 "cells": [
  {
   "cell_type": "markdown",
   "metadata": {},
   "source": [
    "<b>5-3. Alien Colors #1: Imagine an alien was just shot down in a game. Create a\n",
    "variable called alien_color and assign it a value of 'green', 'yellow', or 'red'.    \n",
    "• Write an if statement to test whether the alien’s color is green. If it is, print\n",
    "a message that the player just earned 5 points.    \n",
    "• Write one version of this program that passes the if test and another that\n",
    "fails. (The version that fails will have no output.)</b>"
   ]
  },
  {
   "cell_type": "code",
   "execution_count": 2,
   "metadata": {},
   "outputs": [
    {
     "name": "stdout",
     "output_type": "stream",
     "text": [
      "You just earned 5 points\n"
     ]
    }
   ],
   "source": [
    "alien_color = 'green'\n",
    "\n",
    "if alien_color == 'green':\n",
    "    print(\"You just earned 5 points\")\n",
    "\n",
    "if alien_color == 'yellow':\n",
    "    print(\"You missed\")"
   ]
  },
  {
   "cell_type": "markdown",
   "metadata": {},
   "source": [
    "<b>5-4. Alien Colors #2: Choose a color for an alien as you did in Exercise 5-3, and\n",
    "write an if-else chain.    \n",
    "• If the alien’s color is green, print a statement that the player just earned\n",
    "5 points for shooting the alien.    \n",
    "• If the alien’s color isn’t green, print a statement that the player just earned\n",
    "10 points.    \n",
    "• Write one version of this program that runs the if block and another that\n",
    "runs the else block.</b>"
   ]
  },
  {
   "cell_type": "code",
   "execution_count": 3,
   "metadata": {},
   "outputs": [
    {
     "name": "stdout",
     "output_type": "stream",
     "text": [
      "You earned 5 points for shooting a green alien\n"
     ]
    }
   ],
   "source": [
    "alien_color = 'green'\n",
    "\n",
    "if alien_color == 'green':\n",
    "    print(\"You earned 5 points for shooting a green alien\")\n",
    "else:\n",
    "    print(\"You earned 10 points\")"
   ]
  },
  {
   "cell_type": "code",
   "execution_count": 4,
   "metadata": {},
   "outputs": [
    {
     "name": "stdout",
     "output_type": "stream",
     "text": [
      "You earned 10 points\n"
     ]
    }
   ],
   "source": [
    "alien_color = 'red'\n",
    "\n",
    "if alien_color == 'green':\n",
    "    print(\"You earned 5 points for shooting a green alien\")\n",
    "else:\n",
    "    print(\"You earned 10 points\")"
   ]
  },
  {
   "cell_type": "markdown",
   "metadata": {},
   "source": [
    "<b>5-5. Alien Colors #3: Turn your if-else chain from Exercise 5-4 into an if-elifelse\n",
    "chain.    \n",
    "• If the alien is green, print a message that the player earned 5 points.    \n",
    "• If the alien is yellow, print a message that the player earned 10 points.    \n",
    "• If the alien is red, print a message that the player earned 15 points.    \n",
    "• Write three versions of this program, making sure each message is printed\n",
    "for the appropriate color alien.</b>"
   ]
  },
  {
   "cell_type": "code",
   "execution_count": 5,
   "metadata": {},
   "outputs": [
    {
     "name": "stdout",
     "output_type": "stream",
     "text": [
      "You just earned 5 points\n"
     ]
    }
   ],
   "source": [
    "alien_color = 'green'\n",
    "\n",
    "if alien_color == 'green':\n",
    "    print(\"You just earned 5 points\")\n",
    "elif alien_color == 'yellow':\n",
    "    print(\"You just earned 10 points\")\n",
    "elif alien_color == 'red':\n",
    "    print(\"You just earned 15 points\")"
   ]
  },
  {
   "cell_type": "code",
   "execution_count": 6,
   "metadata": {},
   "outputs": [
    {
     "name": "stdout",
     "output_type": "stream",
     "text": [
      "You just earned 10 points\n"
     ]
    }
   ],
   "source": [
    "alien_color = 'yellow'\n",
    "\n",
    "if alien_color == 'green':\n",
    "    print(\"You just earned 5 points\")\n",
    "elif alien_color == 'yellow':\n",
    "    print(\"You just earned 10 points\")\n",
    "elif alien_color == 'red':\n",
    "    print(\"You just earned 15 points\")"
   ]
  },
  {
   "cell_type": "code",
   "execution_count": 7,
   "metadata": {},
   "outputs": [
    {
     "name": "stdout",
     "output_type": "stream",
     "text": [
      "You just earned 15 points\n"
     ]
    }
   ],
   "source": [
    "alien_color = 'red'\n",
    "\n",
    "if alien_color == 'green':\n",
    "    print(\"You just earned 5 points\")\n",
    "elif alien_color == 'yellow':\n",
    "    print(\"You just earned 10 points\")\n",
    "elif alien_color == 'red':\n",
    "    print(\"You just earned 15 points\")"
   ]
  },
  {
   "cell_type": "markdown",
   "metadata": {},
   "source": [
    "<b>5-6. Stages of Life: Write an if-elif-else chain that determines a person’s\n",
    "stage of life. Set a value for the variable age, and then:    \n",
    "• If the person is less than 2 years old, print a message that the person is\n",
    "a baby.    \n",
    "• If the person is at least 2 years old but less than 4, print a message that\n",
    "the person is a toddler.    \n",
    "• If the person is at least 4 years old but less than 13, print a message that\n",
    "the person is a kid.    \n",
    "• If the person is at least 13 years old but less than 20, print a message that\n",
    "the person is a teenager.    \n",
    "• If the person is at least 20 years old but less than 65, print a message that\n",
    "the person is an adult.    \n",
    "• If the person is age 65 or older, print a message that the person is an\n",
    "elder.</b>"
   ]
  },
  {
   "cell_type": "code",
   "execution_count": 12,
   "metadata": {},
   "outputs": [
    {
     "name": "stdout",
     "output_type": "stream",
     "text": [
      "The person is an elder\n"
     ]
    }
   ],
   "source": [
    "age = 67\n",
    "\n",
    "if age < 2:\n",
    "    print(\"The person is a baby\")\n",
    "elif age >= 2 and age < 4:\n",
    "    print(\"The person is a toddler\")\n",
    "elif age >= 4 and age < 13:\n",
    "    print(\"The person is a kid\")\n",
    "elif age >= 13 and age < 20:\n",
    "    print(\"The person is a teenager\")\n",
    "elif age >= 20 and age < 65:\n",
    "    print(\"The person is an adult\")\n",
    "elif age >= 65:\n",
    "    print(\"The person is an elder\")"
   ]
  },
  {
   "cell_type": "markdown",
   "metadata": {},
   "source": [
    "<b>5-7. Favorite Fruit: Make a list of your favorite fruits, and then write a series of\n",
    "independent if statements that check for certain fruits in your list.    \n",
    "• Make a list of your three favorite fruits and call it favorite_fruits.    \n",
    "• Write five if statements. Each should check whether a certain kind of fruit\n",
    "is in your list. If the fruit is in your list, the if block should print a statement,\n",
    "such as You really like bananas!</b>"
   ]
  },
  {
   "cell_type": "code",
   "execution_count": 13,
   "metadata": {},
   "outputs": [
    {
     "name": "stdout",
     "output_type": "stream",
     "text": [
      "You really like pears\n",
      "You really like green apples\n",
      "You really like mango\n"
     ]
    }
   ],
   "source": [
    "favorite_fruits = [\n",
    "    'pear',\n",
    "    'green apple',\n",
    "    'mango'\n",
    "]\n",
    "\n",
    "if 'orange' in favorite_fruits:\n",
    "    print(\"You really like oranges!\")\n",
    "    \n",
    "if 'pear' in favorite_fruits:\n",
    "    print(\"You really like pears\")\n",
    "    \n",
    "if 'green apple' in favorite_fruits:\n",
    "    print(\"You really like green apples\")\n",
    "    \n",
    "if 'banana' in favorite_fruits:\n",
    "    print(\"You really like bananas\")\n",
    "    \n",
    "if 'mango' in favorite_fruits:\n",
    "    print(\"You really like mango\")"
   ]
  },
  {
   "cell_type": "code",
   "execution_count": 14,
   "metadata": {},
   "outputs": [
    {
     "name": "stdout",
     "output_type": "stream",
     "text": [
      "pear is one of your favorite fruits\n",
      "green apple is one of your favorite fruits\n",
      "orange is not one of your favorite fruits\n",
      "mango is one of your favorite fruits\n",
      "banana is not one of your favorite fruits\n"
     ]
    }
   ],
   "source": [
    "favorite_fruits = [\n",
    "    'pear',\n",
    "    'green apple',\n",
    "    'mango'\n",
    "]\n",
    "\n",
    "check_fruits = [\n",
    "    'pear',\n",
    "    'green apple',\n",
    "    'orange',\n",
    "    'mango',\n",
    "    'banana'\n",
    "]\n",
    "\n",
    "for fruit in check_fruits:\n",
    "    if fruit in favorite_fruits:\n",
    "        print(f\"{fruit} is one of your favorite fruits\")\n",
    "    else:\n",
    "        print(f\"{fruit} is not one of your favorite fruits\")\n",
    "\n",
    "        "
   ]
  },
  {
   "cell_type": "markdown",
   "metadata": {},
   "source": [
    "<b>5-8. Hello Admin: Make a list of five or more usernames, including the name\n",
    "'admin'. Imagine you are writing code that will print a greeting to each user\n",
    "after they log in to a website. Loop through the list, and print a greeting to\n",
    "each user:    \n",
    "• If the username is 'admin', print a special greeting, such as Hello admin,\n",
    "would you like to see a status report?    \n",
    "• Otherwise, print a generic greeting, such as Hello Jaden, thank you for\n",
    "logging in again.</b>"
   ]
  },
  {
   "cell_type": "code",
   "execution_count": 15,
   "metadata": {
    "scrolled": true
   },
   "outputs": [
    {
     "name": "stdout",
     "output_type": "stream",
     "text": [
      "Hello, Aristoteles, welcome back!\n",
      "Hello, Plato, welcome back!\n",
      "Hello, Admin, would you like to see a status report?\n",
      "Hello, Socrates, welcome back!\n",
      "Hello, Hobbes, welcome back!\n"
     ]
    }
   ],
   "source": [
    "usernames = [\n",
    "    'Aristoteles',\n",
    "    'Plato',\n",
    "    'Admin',\n",
    "    'Socrates',\n",
    "    'Hobbes'\n",
    "]\n",
    "for user in usernames:\n",
    "    if user == 'Admin':\n",
    "        print(f\"Hello, {user}, would you like to see a status report?\")\n",
    "    else:\n",
    "        print(f\"Hello, {user}, welcome back!\")"
   ]
  },
  {
   "cell_type": "markdown",
   "metadata": {},
   "source": [
    "<b>5-9. No Users: Add an if test to hello_admin.py to make sure the list of users is\n",
    "not empty.\n",
    "• If the list is empty, print the message We need to find some users!\n",
    "• Remove all of the usernames from your list, and make sure the correct\n",
    "message is printed.<b>"
   ]
  },
  {
   "cell_type": "code",
   "execution_count": 17,
   "metadata": {},
   "outputs": [
    {
     "name": "stdout",
     "output_type": "stream",
     "text": [
      "We need to find some users!\n"
     ]
    }
   ],
   "source": [
    "usernames = [\n",
    "]\n",
    "\n",
    "if usernames:\n",
    "    for user in usernames:\n",
    "        if user == 'Admin':\n",
    "            print(f\"Hello, {user}, would you like to see a status report?\")\n",
    "        else:\n",
    "            print(f\"Hello, {user}, welcome back!\")\n",
    "else:\n",
    "    print(\"We need to find some users!\")"
   ]
  },
  {
   "cell_type": "markdown",
   "metadata": {},
   "source": [
    "<b>5-10. Checking Usernames: Do the following to create a program that simulates\n",
    "how websites ensure that everyone has a unique username.    \n",
    "• Make a list of five or more usernames called current_users.    \n",
    "• Make another list of five usernames called new_users. Make sure one or\n",
    "two of the new usernames are also in the current_users list.    \n",
    "• Loop through the new_users list to see if each new username has already\n",
    "been used. If it has, print a message that the person will need to enter a\n",
    "new username. If a username has not been used, print a message saying\n",
    "that the username is available.    \n",
    "• Make sure your comparison is case insensitive. If 'John' has been used,\n",
    "'JOHN' should not be accepted. (To do this, you’ll need to make a copy of\n",
    "current_users containing the lowercase versions of all existing users.)</b>"
   ]
  },
  {
   "cell_type": "code",
   "execution_count": 20,
   "metadata": {},
   "outputs": [
    {
     "name": "stdout",
     "output_type": "stream",
     "text": [
      "['bach', 'brahms', 'chopin', 'mozart', 'strauss', 'beethoven']\n",
      "This username is available! Adding to the database...!\n",
      "Sorry strauss, this username is taken, choose another\n",
      "This username is available! Adding to the database...!\n",
      "This username is available! Adding to the database...!\n",
      "Sorry beethoven, this username is taken, choose another\n",
      "['bach', 'brahms', 'chopin', 'mozart', 'strauss', 'beethoven', 'glass', 'einaudi', 'tchaikovsky']\n"
     ]
    }
   ],
   "source": [
    "current_users = [\n",
    "    'bach',\n",
    "    'brahms',\n",
    "    'chopin',\n",
    "    'mozart',\n",
    "    'strauss',\n",
    "    'beethoven'\n",
    "]\n",
    "check_current_users = []\n",
    "for user in current_users:\n",
    "    check_current_users.append(user.lower())\n",
    "\n",
    "new_users = [\n",
    "    'glass',\n",
    "    'strauss',\n",
    "    'einaudi',\n",
    "    'tchaikovsky',\n",
    "    'beethoven'\n",
    "]\n",
    "print(current_users)\n",
    "\n",
    "for user in new_users:\n",
    "    if user.lower() in check_current_users:\n",
    "        print(f\"Sorry {user}, this username is taken, choose another\")\n",
    "    else:\n",
    "        print(f\"This username is available! Adding to the database...!\")\n",
    "        current_users.append(user)\n",
    "print(current_users)"
   ]
  },
  {
   "cell_type": "markdown",
   "metadata": {},
   "source": [
    "<b>5-11. Ordinal Numbers: Ordinal numbers indicate their position in a list, such\n",
    "as 1st or 2nd. Most ordinal numbers end in th, except 1, 2, and 3.    \n",
    "• Store the numbers 1 through 9 in a list.    \n",
    "• Loop through the list.    \n",
    "• Use an if-elif-else chain inside the loop to print the proper ordinal ending\n",
    "for each number. Your output should read \"1st 2nd 3rd 4th 5th 6th\n",
    "7th 8th 9th\", and each result should be on a separate line.</b>"
   ]
  },
  {
   "cell_type": "code",
   "execution_count": 23,
   "metadata": {},
   "outputs": [
    {
     "name": "stdout",
     "output_type": "stream",
     "text": [
      "1st\n",
      "2nd\n",
      "3rd\n",
      "4th\n",
      "5th\n",
      "6th\n",
      "7th\n",
      "8th\n",
      "9th\n"
     ]
    }
   ],
   "source": [
    "numbers = list(range(1,10))\n",
    "\n",
    "for number in numbers:\n",
    "    if number == 1:\n",
    "        print(f\"{number}st\")\n",
    "    elif number == 2:\n",
    "        print(f\"{number}nd\")\n",
    "    elif number == 3:\n",
    "        print(f\"{number}rd\")\n",
    "    else:\n",
    "        print(f\"{number}th\")\n"
   ]
  },
  {
   "cell_type": "code",
   "execution_count": null,
   "metadata": {},
   "outputs": [],
   "source": []
  }
 ],
 "metadata": {
  "kernelspec": {
   "display_name": "Python 3",
   "language": "python",
   "name": "python3"
  },
  "language_info": {
   "codemirror_mode": {
    "name": "ipython",
    "version": 3
   },
   "file_extension": ".py",
   "mimetype": "text/x-python",
   "name": "python",
   "nbconvert_exporter": "python",
   "pygments_lexer": "ipython3",
   "version": "3.7.6"
  }
 },
 "nbformat": 4,
 "nbformat_minor": 4
}

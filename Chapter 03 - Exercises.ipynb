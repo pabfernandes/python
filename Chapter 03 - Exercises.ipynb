{
 "cells": [
  {
   "cell_type": "markdown",
   "metadata": {},
   "source": [
    "<b>3-1. Names: Store the names of a few of your friends in a list called names. Print\n",
    "each person’s name by accessing each element in the list, one at a time.</b>"
   ]
  },
  {
   "cell_type": "code",
   "execution_count": 1,
   "metadata": {},
   "outputs": [
    {
     "name": "stdout",
     "output_type": "stream",
     "text": [
      "Marcela\n",
      "Bruno\n",
      "Victor\n",
      "Francisco\n"
     ]
    }
   ],
   "source": [
    "names = ['Marcela',\n",
    "        'Bruno',\n",
    "        'Victor',\n",
    "        'Francisco']\n",
    "print(names[0])\n",
    "print(names[1])\n",
    "print(names[2])\n",
    "print(names[3])"
   ]
  },
  {
   "cell_type": "markdown",
   "metadata": {},
   "source": [
    "<b>3-2. Greetings: Start with the list you used in Exercise 3-1, but instead of just\n",
    "printing each person’s name, print a message to them. The text of each message\n",
    "should be the same, but each message should be personalized with the\n",
    "person’s name.</b>"
   ]
  },
  {
   "cell_type": "code",
   "execution_count": 2,
   "metadata": {},
   "outputs": [
    {
     "name": "stdout",
     "output_type": "stream",
     "text": [
      "Hello, Marcela, how are you doing?\n",
      "Hello, Bruno, how are you doing?\n",
      "Hello, Victor, how are you doing?\n",
      "Hello, Francisco, how are you doing?\n"
     ]
    }
   ],
   "source": [
    "print(f\"Hello, {names[0]}, how are you doing?\")\n",
    "print(f\"Hello, {names[1]}, how are you doing?\")\n",
    "print(f\"Hello, {names[2]}, how are you doing?\")\n",
    "print(f\"Hello, {names[3]}, how are you doing?\")"
   ]
  },
  {
   "cell_type": "markdown",
   "metadata": {},
   "source": [
    "<b>3-3. Your Own List: Think of your favorite mode of transportation, such as a\n",
    "motorcycle or a car, and make a list that stores several examples. Use your list\n",
    "to print a series of statements about these items, such as “I would like to own a\n",
    "Honda motorcycle.”</b>"
   ]
  },
  {
   "cell_type": "code",
   "execution_count": 3,
   "metadata": {},
   "outputs": [
    {
     "name": "stdout",
     "output_type": "stream",
     "text": [
      "I'd like to have a Ducati motorcycle!\n"
     ]
    }
   ],
   "source": [
    "transports = [\n",
    "    'car',\n",
    "    'bicycle',\n",
    "    'bus',\n",
    "    'subway',\n",
    "    'motorcycle'\n",
    "]\n",
    "print(f\"I'd like to have a Ducati {transports[-1]}!\")"
   ]
  },
  {
   "cell_type": "markdown",
   "metadata": {},
   "source": [
    "<b>3-4. Guest List: If you could invite anyone, living or deceased, to dinner, who\n",
    "would you invite? Make a list that includes at least three people you’d like to\n",
    "invite to dinner. Then use your list to print a message to each person, inviting\n",
    "them to dinner.</b>"
   ]
  },
  {
   "cell_type": "code",
   "execution_count": 11,
   "metadata": {},
   "outputs": [
    {
     "name": "stdout",
     "output_type": "stream",
     "text": [
      "Hello, Albert Einstein, you are invited to dinner\n",
      "Hello, Nikola Tesla, you are invited to dinner\n",
      "Hello, Richard Feynman, you are invited to dinner\n"
     ]
    }
   ],
   "source": [
    "guests = [\n",
    "    'Albert Einstein',\n",
    "    'Nikola Tesla',\n",
    "    'Richard Feynman'\n",
    "]\n",
    "print(f\"Hello, {guests[0]}, you are invited to dinner\")\n",
    "print(f\"Hello, {guests[1]}, you are invited to dinner\")\n",
    "print(f\"Hello, {guests[2]}, you are invited to dinner\")"
   ]
  },
  {
   "cell_type": "markdown",
   "metadata": {},
   "source": [
    "<b>3-5. Changing Guest List: You just heard that one of your guests can’t make the\n",
    "dinner, so you need to send out a new set of invitations. You’ll have to think of\n",
    "someone else to invite.    \n",
    "• Start with your program from Exercise 3-4. Add a print() call at the end\n",
    "of your program stating the name of the guest who can’t make it.    \n",
    "• Modify your list, replacing the name of the guest who can’t make it with\n",
    "the name of the new person you are inviting.    \n",
    "• Print a second set of invitation messages, one for each person who is still\n",
    "in your list.</b>"
   ]
  },
  {
   "cell_type": "code",
   "execution_count": 13,
   "metadata": {},
   "outputs": [
    {
     "name": "stdout",
     "output_type": "stream",
     "text": [
      "Hello, Albert Einstein, you are invited to dinner\n",
      "Hello, Nikola Tesla, you are invited to dinner\n",
      "Hello, Richard Feynman, you are invited to dinner\n",
      "It seems like Albert Einstein will not be able to come\n",
      "Hello, Nikola Tesla, you are invited to dinner\n",
      "Hello, Richard Feynman, you are invited to dinner\n",
      "Hello, Isaac Newton, you are invited to dinner\n"
     ]
    }
   ],
   "source": [
    "guests = [\n",
    "    'Albert Einstein',\n",
    "    'Nikola Tesla',\n",
    "    'Richard Feynman'\n",
    "]\n",
    "print(f\"Hello, {guests[0]}, you are invited to dinner\")\n",
    "print(f\"Hello, {guests[1]}, you are invited to dinner\")\n",
    "print(f\"Hello, {guests[2]}, you are invited to dinner\")\n",
    "print(f\"It seems like {guests.pop(0)} will not be able to come\")\n",
    "\n",
    "guests.append('Isaac Newton')\n",
    "print(f\"Hello, {guests[0]}, you are invited to dinner\")\n",
    "print(f\"Hello, {guests[1]}, you are invited to dinner\")\n",
    "print(f\"Hello, {guests[2]}, you are invited to dinner\")\n"
   ]
  },
  {
   "cell_type": "markdown",
   "metadata": {},
   "source": [
    "<b>3-6. More Guests: You just found a bigger dinner table, so now more space is\n",
    "available. Think of three more guests to invite to dinner.    \n",
    "• Start with your program from Exercise 3-4 or Exercise 3-5. Add a print()\n",
    "call to the end of your program informing people that you found a bigger\n",
    "dinner table.    \n",
    "• Use insert() to add one new guest to the beginning of your list.    \n",
    "• Use insert() to add one new guest to the middle of your list.    \n",
    "• Use append() to add one new guest to the end of your list.    \n",
    "• Print a new set of invitation messages, one for each person in your list.</b>"
   ]
  },
  {
   "cell_type": "code",
   "execution_count": 14,
   "metadata": {},
   "outputs": [
    {
     "name": "stdout",
     "output_type": "stream",
     "text": [
      "Hello, Albert Einstein, you are invited to dinner\n",
      "Hello, Nikola Tesla, you are invited to dinner\n",
      "Hello, Richard Feynman, you are invited to dinner\n",
      "It seems like Albert Einstein will not be able to come\n",
      "Hello, Nikola Tesla, you are invited to dinner\n",
      "Hello, Richard Feynman, you are invited to dinner\n",
      "Hello, Isaac Newton, you are invited to dinner\n",
      "I managed to arrange a bigger table! now I'll invite three more people\n",
      "Hello, Marie Curie, you are invited to dinner\n",
      "Hello, Nikola Tesla, you are invited to dinner\n",
      "Hello, Carl Sagan, you are invited to dinner\n",
      "Hello, Richard Feynman, you are invited to dinner\n",
      "Hello, Isaac Newton, you are invited to dinner\n",
      "Hello, Stephen Hawking, you are invited to dinner\n"
     ]
    }
   ],
   "source": [
    "guests = [\n",
    "    'Albert Einstein',\n",
    "    'Nikola Tesla',\n",
    "    'Richard Feynman'\n",
    "]\n",
    "print(f\"Hello, {guests[0]}, you are invited to dinner\")\n",
    "print(f\"Hello, {guests[1]}, you are invited to dinner\")\n",
    "print(f\"Hello, {guests[2]}, you are invited to dinner\")\n",
    "print(f\"It seems like {guests.pop(0)} will not be able to come\")\n",
    "\n",
    "guests.append('Isaac Newton')\n",
    "print(f\"Hello, {guests[0]}, you are invited to dinner\")\n",
    "print(f\"Hello, {guests[1]}, you are invited to dinner\")\n",
    "print(f\"Hello, {guests[2]}, you are invited to dinner\")\n",
    "\n",
    "print(\"I managed to arrange a bigger table! now I'll invite three more people\")\n",
    "\n",
    "guests.insert(0,'Marie Curie')\n",
    "guests.insert(2, 'Carl Sagan')\n",
    "guests.append('Stephen Hawking')\n",
    "print(f\"Hello, {guests[0]}, you are invited to dinner\")\n",
    "print(f\"Hello, {guests[1]}, you are invited to dinner\")\n",
    "print(f\"Hello, {guests[2]}, you are invited to dinner\")\n",
    "print(f\"Hello, {guests[3]}, you are invited to dinner\")\n",
    "print(f\"Hello, {guests[4]}, you are invited to dinner\")\n",
    "print(f\"Hello, {guests[5]}, you are invited to dinner\")\n",
    "\n",
    "\n"
   ]
  },
  {
   "cell_type": "markdown",
   "metadata": {},
   "source": [
    "<b>3-7. Shrinking Guest List: You just found out that your new dinner table won’t\n",
    "arrive in time for the dinner, and you have space for only two guests.    \n",
    "• Start with your program from Exercise 3-6. Add a new line that prints a\n",
    "message saying that you can invite only two people for dinner.    \n",
    "• Use pop() to remove guests from your list one at a time until only two\n",
    "names remain in your list. Each time you pop a name from your list, print\n",
    "a message to that person letting them know you’re sorry you can’t invite\n",
    "them to dinner.    \n",
    "• Print a message to each of the two people still on your list, letting them\n",
    "know they’re still invited.    \n",
    "• Use del to remove the last two names from your list, so you have an empty\n",
    "list. Print your list to make sure you actually have an empty list at the end\n",
    "of your program.</b>"
   ]
  },
  {
   "cell_type": "code",
   "execution_count": 17,
   "metadata": {},
   "outputs": [
    {
     "name": "stdout",
     "output_type": "stream",
     "text": [
      "Hello, Albert Einstein, you are invited to dinner\n",
      "Hello, Nikola Tesla, you are invited to dinner\n",
      "Hello, Richard Feynman, you are invited to dinner\n",
      "It seems like Albert Einstein will not be able to come\n",
      "Hello, Nikola Tesla, you are invited to dinner\n",
      "Hello, Richard Feynman, you are invited to dinner\n",
      "Hello, Isaac Newton, you are invited to dinner\n",
      "I managed to arrange a bigger table! now I'll invite three more people\n",
      "Hello, Marie Curie, you are invited to dinner\n",
      "Hello, Nikola Tesla, you are invited to dinner\n",
      "Hello, Carl Sagan, you are invited to dinner\n",
      "Hello, Richard Feynman, you are invited to dinner\n",
      "Hello, Isaac Newton, you are invited to dinner\n",
      "Hello, Stephen Hawking, you are invited to dinner\n",
      "\n",
      "It seems that I'll only be allowed to invite two people\n",
      "I'm sorry, Stephen Hawking, you're uninvited\n",
      "I'm sorry, Isaac Newton, you're uninvited\n",
      "I'm sorry, Richard Feynman, you're uninvited\n",
      "I'm sorry, Carl Sagan, you're uninvited\n",
      "Marie Curie, you're still invited\n",
      "Nikola Tesla, you're still invited\n",
      "[]\n"
     ]
    }
   ],
   "source": [
    "guests = [\n",
    "    'Albert Einstein',\n",
    "    'Nikola Tesla',\n",
    "    'Richard Feynman'\n",
    "]\n",
    "print(f\"Hello, {guests[0]}, you are invited to dinner\")\n",
    "print(f\"Hello, {guests[1]}, you are invited to dinner\")\n",
    "print(f\"Hello, {guests[2]}, you are invited to dinner\")\n",
    "print(f\"It seems like {guests.pop(0)} will not be able to come\")\n",
    "\n",
    "guests.append('Isaac Newton')\n",
    "print(f\"Hello, {guests[0]}, you are invited to dinner\")\n",
    "print(f\"Hello, {guests[1]}, you are invited to dinner\")\n",
    "print(f\"Hello, {guests[2]}, you are invited to dinner\")\n",
    "\n",
    "print(\"I managed to arrange a bigger table! now I'll invite three more people\")\n",
    "\n",
    "guests.insert(0,'Marie Curie')\n",
    "guests.insert(2, 'Carl Sagan')\n",
    "guests.append('Stephen Hawking')\n",
    "print(f\"Hello, {guests[0]}, you are invited to dinner\")\n",
    "print(f\"Hello, {guests[1]}, you are invited to dinner\")\n",
    "print(f\"Hello, {guests[2]}, you are invited to dinner\")\n",
    "print(f\"Hello, {guests[3]}, you are invited to dinner\")\n",
    "print(f\"Hello, {guests[4]}, you are invited to dinner\")\n",
    "print(f\"Hello, {guests[5]}, you are invited to dinner\")\n",
    "\n",
    "print(\"\\nIt seems that I'll only be allowed to invite two people\")\n",
    "\n",
    "print(f\"I'm sorry, {guests.pop()}, you're uninvited\")\n",
    "print(f\"I'm sorry, {guests.pop()}, you're uninvited\")\n",
    "print(f\"I'm sorry, {guests.pop()}, you're uninvited\")\n",
    "print(f\"I'm sorry, {guests.pop()}, you're uninvited\")\n",
    "\n",
    "print(f\"{guests[0]}, you're still invited\")\n",
    "print(f\"{guests[1]}, you're still invited\")\n",
    "\n",
    "del guests[0]\n",
    "del guests[0]\n",
    "print(guests)"
   ]
  },
  {
   "cell_type": "markdown",
   "metadata": {},
   "source": [
    "<b>3-8. Seeing the World: Think of at least five places in the world you’d like to\n",
    "visit.    \n",
    "• Store the locations in a list. Make sure the list is not in alphabetical order.    \n",
    "• Print your list in its original order. Don’t worry about printing the list neatly,\n",
    "just print it as a raw Python list.    \n",
    "• Use sorted() to print your list in alphabetical order without modifying the\n",
    "actual list.    \n",
    "• Show that your list is still in its original order by printing it.    \n",
    "• Use sorted() to print your list in reverse alphabetical order without changing\n",
    "the order of the original list.    \n",
    "• Show that your list is still in its original order by printing it again.    \n",
    "• Use reverse() to change the order of your list. Print the list to show that its\n",
    "order has changed.    \n",
    "• Use reverse() to change the order of your list again. Print the list to show\n",
    "it’s back to its original order.    \n",
    "• Use sort() to change your list so it’s stored in alphabetical order. Print the\n",
    "list to show that its order has been changed.    \n",
    "• Use sort() to change your list so it’s stored in reverse alphabetical order.\n",
    "Print the list to show that its order has changed.</b>"
   ]
  },
  {
   "cell_type": "code",
   "execution_count": 19,
   "metadata": {},
   "outputs": [
    {
     "name": "stdout",
     "output_type": "stream",
     "text": [
      "['New Orleans', 'Prague', 'Munich', 'Dublin', 'Milan']\n",
      "['Dublin', 'Milan', 'Munich', 'New Orleans', 'Prague']\n",
      "['New Orleans', 'Prague', 'Munich', 'Dublin', 'Milan']\n",
      "['Prague', 'New Orleans', 'Munich', 'Milan', 'Dublin']\n",
      "['New Orleans', 'Prague', 'Munich', 'Dublin', 'Milan']\n",
      "['Milan', 'Dublin', 'Munich', 'Prague', 'New Orleans']\n",
      "['New Orleans', 'Prague', 'Munich', 'Dublin', 'Milan']\n",
      "['Dublin', 'Milan', 'Munich', 'New Orleans', 'Prague']\n",
      "['Prague', 'New Orleans', 'Munich', 'Milan', 'Dublin']\n"
     ]
    }
   ],
   "source": [
    "locations = [\n",
    "    'New Orleans',\n",
    "    'Prague',\n",
    "    'Munich',\n",
    "    'Dublin',\n",
    "    'Milan'\n",
    "]\n",
    "print(locations)\n",
    "\n",
    "print(sorted(locations))\n",
    "print(locations)\n",
    "\n",
    "print(sorted(locations, reverse = True))\n",
    "print(locations)\n",
    "\n",
    "locations.reverse()\n",
    "print(locations)\n",
    "locations.reverse()\n",
    "print(locations)\n",
    "\n",
    "locations.sort()\n",
    "print(locations)\n",
    "locations.sort(reverse = True)\n",
    "print(locations)"
   ]
  },
  {
   "cell_type": "markdown",
   "metadata": {},
   "source": [
    "<b>3-9. Dinner Guests: Working with one of the programs from Exercises 3-4\n",
    "through 3-7 (page 42), use len() to print a message indicating the number\n",
    "of people you are inviting to dinner.</b>"
   ]
  },
  {
   "cell_type": "code",
   "execution_count": 20,
   "metadata": {},
   "outputs": [
    {
     "name": "stdout",
     "output_type": "stream",
     "text": [
      "I'm inviting 3 people to dinner\n",
      "Hello, Albert Einstein, you are invited to dinner\n",
      "Hello, Nikola Tesla, you are invited to dinner\n",
      "Hello, Richard Feynman, you are invited to dinner\n",
      "It seems like Albert Einstein will not be able to come\n",
      "Now I'm inviting 2 people to dinner\n",
      "Hello, Nikola Tesla, you are invited to dinner\n",
      "Hello, Richard Feynman, you are invited to dinner\n",
      "Hello, Isaac Newton, you are invited to dinner\n",
      "I managed to arrange a bigger table! now I'll invite three more people\n",
      "I'm inviting 6 people to dinner\n",
      "Hello, Marie Curie, you are invited to dinner\n",
      "Hello, Nikola Tesla, you are invited to dinner\n",
      "Hello, Carl Sagan, you are invited to dinner\n",
      "Hello, Richard Feynman, you are invited to dinner\n",
      "Hello, Isaac Newton, you are invited to dinner\n",
      "Hello, Stephen Hawking, you are invited to dinner\n",
      "\n",
      "It seems that I'll only be allowed to invite two people\n",
      "I'm sorry, Stephen Hawking, you're uninvited\n",
      "I'm sorry, Isaac Newton, you're uninvited\n",
      "I'm sorry, Richard Feynman, you're uninvited\n",
      "I'm sorry, Carl Sagan, you're uninvited\n",
      "I'm inviting 2 people to dinner\n",
      "Marie Curie, you're still invited\n",
      "Nikola Tesla, you're still invited\n",
      "[]\n"
     ]
    }
   ],
   "source": [
    "guests = [\n",
    "    'Albert Einstein',\n",
    "    'Nikola Tesla',\n",
    "    'Richard Feynman'\n",
    "]\n",
    "print(f\"I'm inviting {len(guests)} people to dinner\")\n",
    "print(f\"Hello, {guests[0]}, you are invited to dinner\")\n",
    "print(f\"Hello, {guests[1]}, you are invited to dinner\")\n",
    "print(f\"Hello, {guests[2]}, you are invited to dinner\")\n",
    "print(f\"It seems like {guests.pop(0)} will not be able to come\")\n",
    "print(f\"Now I'm inviting {len(guests)} people to dinner\")\n",
    "guests.append('Isaac Newton')\n",
    "print(f\"Hello, {guests[0]}, you are invited to dinner\")\n",
    "print(f\"Hello, {guests[1]}, you are invited to dinner\")\n",
    "print(f\"Hello, {guests[2]}, you are invited to dinner\")\n",
    "\n",
    "print(\"I managed to arrange a bigger table! now I'll invite three more people\")\n",
    "\n",
    "guests.insert(0,'Marie Curie')\n",
    "guests.insert(2, 'Carl Sagan')\n",
    "guests.append('Stephen Hawking')\n",
    "print(f\"I'm inviting {len(guests)} people to dinner\")\n",
    "print(f\"Hello, {guests[0]}, you are invited to dinner\")\n",
    "print(f\"Hello, {guests[1]}, you are invited to dinner\")\n",
    "print(f\"Hello, {guests[2]}, you are invited to dinner\")\n",
    "print(f\"Hello, {guests[3]}, you are invited to dinner\")\n",
    "print(f\"Hello, {guests[4]}, you are invited to dinner\")\n",
    "print(f\"Hello, {guests[5]}, you are invited to dinner\")\n",
    "\n",
    "print(\"\\nIt seems that I'll only be allowed to invite two people\")\n",
    "\n",
    "print(f\"I'm sorry, {guests.pop()}, you're uninvited\")\n",
    "print(f\"I'm sorry, {guests.pop()}, you're uninvited\")\n",
    "print(f\"I'm sorry, {guests.pop()}, you're uninvited\")\n",
    "print(f\"I'm sorry, {guests.pop()}, you're uninvited\")\n",
    "print(f\"I'm inviting {len(guests)} people to dinner\")\n",
    "print(f\"{guests[0]}, you're still invited\")\n",
    "print(f\"{guests[1]}, you're still invited\")\n",
    "\n",
    "del guests[0]\n",
    "del guests[0]\n",
    "print(guests)"
   ]
  },
  {
   "cell_type": "code",
   "execution_count": null,
   "metadata": {},
   "outputs": [],
   "source": []
  }
 ],
 "metadata": {
  "kernelspec": {
   "display_name": "Python 3",
   "language": "python",
   "name": "python3"
  },
  "language_info": {
   "codemirror_mode": {
    "name": "ipython",
    "version": 3
   },
   "file_extension": ".py",
   "mimetype": "text/x-python",
   "name": "python",
   "nbconvert_exporter": "python",
   "pygments_lexer": "ipython3",
   "version": "3.7.6"
  }
 },
 "nbformat": 4,
 "nbformat_minor": 4
}

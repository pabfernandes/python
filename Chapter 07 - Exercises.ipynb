{
 "cells": [
  {
   "cell_type": "markdown",
   "metadata": {},
   "source": [
    "<b>7-1. Rental Car: Write a program that asks the user what kind of rental car they\n",
    "would like. Print a message about that car, such as “Let me see if I can find you\n",
    "a Subaru.”</b>"
   ]
  },
  {
   "cell_type": "code",
   "execution_count": 3,
   "metadata": {},
   "outputs": [
    {
     "name": "stdout",
     "output_type": "stream",
     "text": [
      "Hello, matey, which car do you want to rent?: Subaru\n",
      "Ok, I'll se if we have a Subaru for rent.\n"
     ]
    }
   ],
   "source": [
    "car_wanted = input(\"Hello, matey, which car do you want to rent?: \")\n",
    "\n",
    "print(f\"Ok, I'll se if we have a {car_wanted} for rent.\")"
   ]
  },
  {
   "cell_type": "markdown",
   "metadata": {},
   "source": [
    "<b>7-2. Restaurant Seating: Write a program that asks the user how many people\n",
    "are in their dinner group. If the answer is more than eight, print a message saying\n",
    "they’ll have to wait for a table. Otherwise, report that their table is ready.</b>"
   ]
  },
  {
   "cell_type": "code",
   "execution_count": 6,
   "metadata": {},
   "outputs": [
    {
     "name": "stdout",
     "output_type": "stream",
     "text": [
      "How many people will be seating?9\n",
      "Well, for 9 people you'll have to wait for a table\n"
     ]
    }
   ],
   "source": [
    "guests = int(input(\"How many people will be seating?\"))\n",
    "\n",
    "if guests > 8:\n",
    "    print(f\"Well, for {guests} people you'll have to wait for a table\")\n",
    "else:\n",
    "    print(f\"Your table for {guests} is ready\")"
   ]
  },
  {
   "cell_type": "markdown",
   "metadata": {},
   "source": [
    "<b>7-3. Multiples of Ten: Ask the user for a number, and then report whether the\n",
    "number is a multiple of 10 or not.</b>"
   ]
  },
  {
   "cell_type": "code",
   "execution_count": 8,
   "metadata": {},
   "outputs": [
    {
     "name": "stdout",
     "output_type": "stream",
     "text": [
      "Please, enter a number so I can check if it is a multiple of 1045\n",
      "The number 45 is not a multiple of 10\n"
     ]
    }
   ],
   "source": [
    "number = int(input(\"Please, enter a number so I can check if it is a multiple of 10\"))\n",
    "\n",
    "if number % 10 == 0:\n",
    "    print(f\"The number {number} is a multiple of 10\")\n",
    "else:\n",
    "    print(f\"The number {number} is not a multiple of 10\")"
   ]
  },
  {
   "cell_type": "code",
   "execution_count": null,
   "metadata": {},
   "outputs": [],
   "source": []
  }
 ],
 "metadata": {
  "kernelspec": {
   "display_name": "Python 3",
   "language": "python",
   "name": "python3"
  },
  "language_info": {
   "codemirror_mode": {
    "name": "ipython",
    "version": 3
   },
   "file_extension": ".py",
   "mimetype": "text/x-python",
   "name": "python",
   "nbconvert_exporter": "python",
   "pygments_lexer": "ipython3",
   "version": "3.7.6"
  }
 },
 "nbformat": 4,
 "nbformat_minor": 4
}

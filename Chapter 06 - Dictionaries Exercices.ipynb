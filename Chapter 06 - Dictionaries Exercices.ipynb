{
 "cells": [
  {
   "cell_type": "markdown",
   "metadata": {},
   "source": [
    "<b>6-1. Person: Use a dictionary to store information about a person you know.\n",
    "Store their first name, last name, age, and the city in which they live. You\n",
    "should have keys such as first_name, last_name, age, and city. Print each\n",
    "piece of information stored in your dictionary.</b>"
   ]
  },
  {
   "cell_type": "code",
   "execution_count": 5,
   "metadata": {},
   "outputs": [],
   "source": [
    "person_1 = {\n",
    "    'first_name': 'Paulo',\n",
    "    'last_name': 'Fernandes',\n",
    "    'age' : 36,\n",
    "    'city' : 'Corumba'\n",
    "}"
   ]
  },
  {
   "cell_type": "code",
   "execution_count": 6,
   "metadata": {},
   "outputs": [
    {
     "data": {
      "text/plain": [
       "'Paulo'"
      ]
     },
     "execution_count": 6,
     "metadata": {},
     "output_type": "execute_result"
    }
   ],
   "source": [
    "person_1['first_name']"
   ]
  },
  {
   "cell_type": "code",
   "execution_count": 7,
   "metadata": {},
   "outputs": [
    {
     "data": {
      "text/plain": [
       "'Fernandes'"
      ]
     },
     "execution_count": 7,
     "metadata": {},
     "output_type": "execute_result"
    }
   ],
   "source": [
    "person_1['last_name'\n",
    "        ]"
   ]
  },
  {
   "cell_type": "code",
   "execution_count": 8,
   "metadata": {},
   "outputs": [
    {
     "data": {
      "text/plain": [
       "36"
      ]
     },
     "execution_count": 8,
     "metadata": {},
     "output_type": "execute_result"
    }
   ],
   "source": [
    "person_1['age']"
   ]
  },
  {
   "cell_type": "code",
   "execution_count": 9,
   "metadata": {},
   "outputs": [
    {
     "data": {
      "text/plain": [
       "'Corumba'"
      ]
     },
     "execution_count": 9,
     "metadata": {},
     "output_type": "execute_result"
    }
   ],
   "source": [
    "person_1['city']"
   ]
  },
  {
   "cell_type": "markdown",
   "metadata": {},
   "source": [
    "<b>6-2. Favorite Numbers: Use a dictionary to store people’s favorite numbers.\n",
    "Think of five names, and use them as keys in your dictionary. Think of a favorite\n",
    "number for each person, and store each as a value in your dictionary. Print\n",
    "each person’s name and their favorite number. For even more fun, poll a few\n",
    "friends and get some actual data for your program.</b>"
   ]
  },
  {
   "cell_type": "code",
   "execution_count": 18,
   "metadata": {},
   "outputs": [
    {
     "name": "stdout",
     "output_type": "stream",
     "text": [
      "michael     \t 23\n",
      "peyton     \t 10\n",
      "pele     \t 10\n",
      "kobe     \t 24\n",
      "drew     \t 9\n",
      "teyson     \t 7\n"
     ]
    }
   ],
   "source": [
    "fav_numbers = {\n",
    "    'michael': 23,\n",
    "    'peyton': 10,\n",
    "    'pele': 10,\n",
    "    'kobe': 24,\n",
    "    'drew': 9,\n",
    "    'teyson': 7\n",
    "}\n",
    "\n",
    "for item, number in fav_numbers.items():\n",
    "    print(item,\"    \" \"\\t\", number)"
   ]
  },
  {
   "cell_type": "markdown",
   "metadata": {},
   "source": [
    "<b>6-5. Rivers: Make a dictionary containing three major rivers and the country\n",
    "each river runs through. One key-value pair might be 'nile': 'egypt'.    \n",
    "• Use a loop to print a sentence about each river, such as The Nile runs\n",
    "through Egypt.    \n",
    "• Use a loop to print the name of each river included in the dictionary.    \n",
    "• Use a loop to print the name of each country included in the dictionary.</b>"
   ]
  },
  {
   "cell_type": "code",
   "execution_count": 19,
   "metadata": {},
   "outputs": [
    {
     "name": "stdout",
     "output_type": "stream",
     "text": [
      "The Nile river runs through Egypt.\n",
      "The Reno river runs through France.\n",
      "The Amazon river runs through Brazil.\n",
      "The Mississipi river runs through Usa.\n",
      "The Yukon river runs through Canada.\n",
      "The Yang Tse river runs through China.\n",
      "The Ganges river runs through India.\n",
      "These are the rivers mentioned:\n",
      "Nile\n",
      "Reno\n",
      "Amazon\n",
      "Mississipi\n",
      "Yukon\n",
      "Yang Tse\n",
      "Ganges\n",
      "These are the countries of those rivers:\n",
      "Egypt\n",
      "France\n",
      "Brazil\n",
      "Usa\n",
      "Canada\n",
      "China\n",
      "India\n"
     ]
    }
   ],
   "source": [
    "rivers = {\n",
    "    'nile': 'egypt',\n",
    "    'reno': 'france',\n",
    "    'amazon': 'brazil',\n",
    "    'mississipi': 'USA',\n",
    "    'yukon': 'canada',\n",
    "    'yang tse': 'china',\n",
    "    'ganges': 'india'\n",
    "}\n",
    "\n",
    "for river, country in rivers.items():\n",
    "    print(f\"The {river.title()} river runs through {country.title()}.\")\n",
    "    \n",
    "print(\"These are the rivers mentioned:\")    \n",
    "for river in rivers.keys():\n",
    "    print(river.title())\n",
    "    \n",
    "print(\"These are the countries of those rivers:\")\n",
    "for country in rivers.values():\n",
    "    print(country.title())"
   ]
  },
  {
   "cell_type": "markdown",
   "metadata": {},
   "source": [
    "<b>6-6. Polling: Use the code in favorite_languages.py (page 97).    \n",
    "• Make a list of people who should take the favorite languages poll. Include\n",
    "some names that are already in the dictionary and some that are not.    \n",
    "• Loop through the list of people who should take the poll. If they have\n",
    "already taken the poll, print a message thanking them for responding.    \n",
    "If they have not yet taken the poll, print a message inviting them to take\n",
    "the poll.</b>"
   ]
  },
  {
   "cell_type": "code",
   "execution_count": 21,
   "metadata": {},
   "outputs": [
    {
     "name": "stdout",
     "output_type": "stream",
     "text": [
      "Thanks for taking the poll, Jen.\n",
      "You should take the poll, Peter.\n",
      "You should take the poll, Paul.\n",
      "You should take the poll, Emerson.\n",
      "Thanks for taking the poll, Phil.\n",
      "You should take the poll, Lake.\n",
      "You should take the poll, Palmer.\n"
     ]
    }
   ],
   "source": [
    "favorite_languages = {\n",
    "'jen': 'python',\n",
    "'sarah': 'c',\n",
    "'edward': 'ruby',\n",
    "'phil': 'python',\n",
    "}\n",
    "\n",
    "invited_people = [\n",
    "    'jen',\n",
    "    'peter',\n",
    "    'paul',\n",
    "    'emerson',\n",
    "    'phil',\n",
    "    'lake',\n",
    "    'palmer'\n",
    "]\n",
    "\n",
    "for name in invited_people:\n",
    "    if name in favorite_languages.keys():\n",
    "        print(f\"Thanks for taking the poll, {name.title()}.\")\n",
    "    else:\n",
    "        print(f\"You should take the poll, {name.title()}.\")"
   ]
  },
  {
   "cell_type": "markdown",
   "metadata": {},
   "source": [
    "<b>6-7. People: Start with the program you wrote for Exercise 6-1 (page 99).\n",
    "Make two new dictionaries representing different people, and store all three\n",
    "dictionaries in a list called people. Loop through your list of people. As you\n",
    "loop through the list, print everything you know about each person.</b>"
   ]
  },
  {
   "cell_type": "code",
   "execution_count": 2,
   "metadata": {},
   "outputs": [
    {
     "name": "stdout",
     "output_type": "stream",
     "text": [
      "Here is the info about Paulo Fernandes\n",
      "\tAge: 36\n",
      "\tCity: Corumba\n",
      "Here is the info about Bruno Russian\n",
      "\tAge: 33\n",
      "\tCity: Piracicaba\n",
      "Here is the info about Victor Lobo\n",
      "\tAge: 34\n",
      "\tCity: Brasilia\n"
     ]
    }
   ],
   "source": [
    "person_1 = {\n",
    "    'first_name': 'Paulo',\n",
    "    'last_name': 'Fernandes',\n",
    "    'age' : 36,\n",
    "    'city' : 'Corumba'\n",
    "}\n",
    "\n",
    "person_2 = {\n",
    "    'first_name': 'Bruno',\n",
    "    'last_name': 'Russian',\n",
    "    'age': 33,\n",
    "    'city': 'Piracicaba'\n",
    "}\n",
    "\n",
    "person_3 = {\n",
    "    'first_name': 'Victor',\n",
    "    'last_name': 'Lobo',\n",
    "    'age': 34,\n",
    "    'city': 'Brasilia'\n",
    "}\n",
    "\n",
    "people = [person_1, person_2, person_3]\n",
    "\n",
    "for person in people:\n",
    "    full_name = f\"{person['first_name']} {person['last_name']}\"\n",
    "    print(f\"Here is the info about {full_name.title()}\")\n",
    "    print(f\"\\tAge: {person['age']}\")\n",
    "    print(f\"\\tCity: {person['city'].title()}\")"
   ]
  },
  {
   "cell_type": "markdown",
   "metadata": {},
   "source": [
    "<b>6-8. Pets: Make several dictionaries, where each dictionary represents a different\n",
    "pet. In each dictionary, include the kind of animal and the owner’s name.\n",
    "Store these dictionaries in a list called pets. Next, loop through your list and as\n",
    "you do, print everything you know about each pet.</b>"
   ]
  },
  {
   "cell_type": "code",
   "execution_count": 5,
   "metadata": {},
   "outputs": [
    {
     "name": "stdout",
     "output_type": "stream",
     "text": [
      "\n",
      "This is the info for Paco\n",
      "\tOwner: Aspira\n",
      "\tSpecies: Dog\n",
      "\tBreed: French Bulldog\n",
      "\n",
      "This is the info for Gaudi\n",
      "\tOwner: Joao\n",
      "\tSpecies: Dog\n",
      "\tBreed: Border Collie\n",
      "\n",
      "This is the info for Bob\n",
      "\tOwner: Unknown\n",
      "\tSpecies: Cat\n",
      "\tBreed: Unknown\n"
     ]
    }
   ],
   "source": [
    "pet_1 = {\n",
    "    'name': 'paco',\n",
    "    'owner': 'aspira',\n",
    "    'species': 'dog',\n",
    "    'breed': 'french bulldog'\n",
    "}\n",
    "\n",
    "pet_2 = {\n",
    "    'name': 'gaudi',\n",
    "    'owner': 'joao',\n",
    "    'species': 'dog',\n",
    "    'breed': 'border collie'\n",
    "}\n",
    "pet_3 = {\n",
    "    'name': 'bob',\n",
    "    'owner': 'unknown',\n",
    "    'species': 'cat',\n",
    "    'breed': 'unknown'\n",
    "}\n",
    "\n",
    "pets = [\n",
    "    pet_1,\n",
    "    pet_2,\n",
    "    pet_3\n",
    "]\n",
    "\n",
    "for pet in pets:\n",
    "    print(f\"\\nThis is the info for {pet['name'].title()}\")\n",
    "    print(f\"\\tOwner: {pet['owner'].title()}\")\n",
    "    print(f\"\\tSpecies: {pet['species'].title()}\")\n",
    "    print(f\"\\tBreed: {pet['breed'].title()}\")"
   ]
  },
  {
   "cell_type": "markdown",
   "metadata": {},
   "source": [
    "<b>6-9. Favorite Places: Make a dictionary called favorite_places. Think of three\n",
    "names to use as keys in the dictionary, and store one to three favorite places\n",
    "for each person. To make this exercise a bit more interesting, ask some friends\n",
    "to name a few of their favorite places. Loop through the dictionary, and print\n",
    "each person’s name and their favorite places.</b>\n"
   ]
  },
  {
   "cell_type": "code",
   "execution_count": 7,
   "metadata": {},
   "outputs": [
    {
     "name": "stdout",
     "output_type": "stream",
     "text": [
      "\n",
      "Tuiuiu's favorite places are:\n",
      "\tWeird Barrel\n",
      "\tThe Barley House\n",
      "\tVila Dionisio\n",
      "\n",
      "Palmito's favorite places are:\n",
      "\tWeird Barrel\n",
      "\tSP330\n",
      "\n",
      "Aspira's favorite places are:\n",
      "\tWeird Barrel\n",
      "\tBlack Bulldog\n"
     ]
    }
   ],
   "source": [
    "favorite_places = {\n",
    "    'tuiuiu': {\n",
    "        'vila dionisio',\n",
    "        'weird barrel',\n",
    "        'the barley house'\n",
    "    },\n",
    "    'palmito': {\n",
    "        'weird barrel',\n",
    "        'SP330',\n",
    "    },\n",
    "    'aspira': {\n",
    "        'black bulldog',\n",
    "        'weird barrel'\n",
    "    }\n",
    "}\n",
    "\n",
    "for name, places in favorite_places.items():\n",
    "    print(f\"\\n{name.title()}'s favorite places are:\")\n",
    "    for place in places:\n",
    "        if place == 'SP330':\n",
    "            print(f\"\\t{place.upper()}\")\n",
    "        else:\n",
    "            print(f\"\\t{place.title()}\")"
   ]
  },
  {
   "cell_type": "markdown",
   "metadata": {},
   "source": [
    "<b>6-10. Favorite Numbers: Modify your program from Exercise 6-2 (page 99)\n",
    "so each person can have more than one favorite number. Then print each person’s\n",
    "name along with their favorite numbers.</b>"
   ]
  },
  {
   "cell_type": "markdown",
   "metadata": {},
   "source": [
    "<b>(this was changed to world cup of football winnings)"
   ]
  },
  {
   "cell_type": "code",
   "execution_count": 10,
   "metadata": {},
   "outputs": [
    {
     "name": "stdout",
     "output_type": "stream",
     "text": [
      "\n",
      "Brazil has won FIFA World Cup the following years:\n",
      "\t1958's World Cup in Sweden\n",
      "\t1962's World Cup in Chile\n",
      "\t1970's World Cup in Mexico\n",
      "\t1994's World Cup in USA\n",
      "\t2002's World Cup in Japan\n",
      "\n",
      "Germany has won FIFA World Cup the following years:\n",
      "\t1954's World Cup in Switzerland\n",
      "\t1974's World Cup in Germany\n",
      "\t1990's World Cup in Italy\n",
      "\t2014's World Cup in Brazil\n",
      "\n",
      "Italy has won FIFA World Cup the following years:\n",
      "\t1934's World Cup in Italy\n",
      "\t1938's World Cup in France\n",
      "\t1982's World Cup in Spain\n",
      "\t2006's World Cup in Germany\n",
      "\n",
      "Argentina has won FIFA World Cup the following years:\n",
      "\t1978's World Cup in Argentina\n",
      "\t1986's World Cup in Mexico\n",
      "\n",
      "France has won FIFA World Cup the following years:\n",
      "\t1998's World Cup in France\n",
      "\t2018's World Cup in Russia\n",
      "\n",
      "Uruguay has won FIFA World Cup the following years:\n",
      "\t1930's World Cup in Uruguay\n",
      "\t1950's World Cup in Brazil\n",
      "\n",
      "England has won FIFA World Cup the following years:\n",
      "\t1966's World Cup in England\n",
      "\n",
      "Spain has won FIFA World Cup the following years:\n",
      "\t2010's World Cup in South Africa\n"
     ]
    }
   ],
   "source": [
    "cup_winners = {\n",
    "    'brazil':{\n",
    "        'sweden': 1958,\n",
    "        'chile': 1962,\n",
    "        'mexico': 1970,\n",
    "        'usa': 1994,\n",
    "        'japan': 2002\n",
    "    },\n",
    "    'germany':{\n",
    "        'switzerland': 1954,\n",
    "        'germany':1974,\n",
    "        'italy': 1990,\n",
    "        'brazil': 2014\n",
    "    },\n",
    "    'italy': {\n",
    "        'italy': 1934,\n",
    "        'france': 1938,\n",
    "        'spain': 1982,\n",
    "        'germany': 2006\n",
    "    },\n",
    "    'argentina': {\n",
    "        'argentina': 1978,\n",
    "        'mexico': 1986\n",
    "    },\n",
    "    'france': {\n",
    "        'france': 1998,\n",
    "        'russia': 2018\n",
    "    },\n",
    "    'uruguay': {\n",
    "        'uruguay': 1930,\n",
    "        'brazil': 1950\n",
    "    },\n",
    "    'england': {\n",
    "        'england': 1966\n",
    "    },\n",
    "    'spain': {\n",
    "        'south africa': 2010\n",
    "    }\n",
    "}\n",
    "\n",
    "for country, hosts in cup_winners.items():\n",
    "    print(f\"\\n{country.title()} has won FIFA World Cup the following years:\")\n",
    "    for host, year in hosts.items():\n",
    "        if host == 'usa':\n",
    "            print(f\"\\t{year}'s World Cup in {host.upper()}\")\n",
    "        else:\n",
    "            print(f\"\\t{year}'s World Cup in {host.title()}\")\n",
    "        "
   ]
  },
  {
   "cell_type": "code",
   "execution_count": null,
   "metadata": {},
   "outputs": [],
   "source": []
  }
 ],
 "metadata": {
  "kernelspec": {
   "display_name": "Python 3",
   "language": "python",
   "name": "python3"
  },
  "language_info": {
   "codemirror_mode": {
    "name": "ipython",
    "version": 3
   },
   "file_extension": ".py",
   "mimetype": "text/x-python",
   "name": "python",
   "nbconvert_exporter": "python",
   "pygments_lexer": "ipython3",
   "version": "3.7.6"
  }
 },
 "nbformat": 4,
 "nbformat_minor": 4
}

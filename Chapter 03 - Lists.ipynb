{
 "cells": [
  {
   "cell_type": "code",
   "execution_count": 2,
   "metadata": {},
   "outputs": [
    {
     "name": "stdout",
     "output_type": "stream",
     "text": [
      "['trek', 'canondale', 'redline', 'specialized']\n"
     ]
    }
   ],
   "source": [
    "bicycles = ['trek',\n",
    "           'canondale',\n",
    "           'redline',\n",
    "           'specialized']\n",
    "\n",
    "print(bicycles)"
   ]
  },
  {
   "cell_type": "code",
   "execution_count": 3,
   "metadata": {
    "scrolled": true
   },
   "outputs": [
    {
     "name": "stdout",
     "output_type": "stream",
     "text": [
      "trek\n"
     ]
    }
   ],
   "source": [
    "print(bicycles[0])"
   ]
  },
  {
   "cell_type": "code",
   "execution_count": 4,
   "metadata": {},
   "outputs": [
    {
     "name": "stdout",
     "output_type": "stream",
     "text": [
      "['bmw', 'audi', 'porsche', 'mercedes']\n",
      "['audi', 'bmw', 'mercedes', 'porsche']\n"
     ]
    }
   ],
   "source": [
    "cars = [\n",
    "    'bmw',\n",
    "    'audi',\n",
    "    'porsche',\n",
    "    'mercedes'\n",
    "]\n",
    "print(cars)\n",
    "cars.sort()\n",
    "print(cars)"
   ]
  },
  {
   "cell_type": "code",
   "execution_count": 5,
   "metadata": {},
   "outputs": [
    {
     "name": "stdout",
     "output_type": "stream",
     "text": [
      "['bmw', 'audi', 'porsche', 'mercedes']\n",
      "['porsche', 'mercedes', 'bmw', 'audi']\n"
     ]
    }
   ],
   "source": [
    "cars = [\n",
    "    'bmw',\n",
    "    'audi',\n",
    "    'porsche',\n",
    "    'mercedes'\n",
    "]\n",
    "print(cars)\n",
    "cars.sort(reverse = True)\n",
    "print(cars)"
   ]
  },
  {
   "cell_type": "code",
   "execution_count": 6,
   "metadata": {},
   "outputs": [
    {
     "name": "stdout",
     "output_type": "stream",
     "text": [
      "Here is the original list:\n",
      "\n",
      "['bmw', 'audi', 'porsche', 'mercedes']\n",
      "\n",
      "Here is the sorted list:\n",
      "\n",
      "['audi', 'bmw', 'mercedes', 'porsche']\n",
      "\n",
      "Here is the orifginal list again:\n",
      "\n",
      "['bmw', 'audi', 'porsche', 'mercedes']\n"
     ]
    }
   ],
   "source": [
    "cars = [\n",
    "    'bmw',\n",
    "    'audi',\n",
    "    'porsche',\n",
    "    'mercedes'\n",
    "]\n",
    "print(\"Here is the original list:\\n\")\n",
    "print(cars)\n",
    "\n",
    "print(\"\\nHere is the sorted list:\\n\")\n",
    "print(sorted(cars))\n",
    "\n",
    "print(\"\\nHere is the orifginal list again:\\n\")\n",
    "print(cars)"
   ]
  },
  {
   "cell_type": "code",
   "execution_count": 7,
   "metadata": {},
   "outputs": [
    {
     "name": "stdout",
     "output_type": "stream",
     "text": [
      "['bmw', 'audi', 'porsche', 'mercedes']\n",
      "['mercedes', 'porsche', 'audi', 'bmw']\n"
     ]
    }
   ],
   "source": [
    "#Printing a list in reverse order\n",
    "cars = [\n",
    "    'bmw',\n",
    "    'audi',\n",
    "    'porsche',\n",
    "    'mercedes'\n",
    "]\n",
    "print(cars)\n",
    "\n",
    "cars.reverse()\n",
    "print(cars)"
   ]
  },
  {
   "cell_type": "code",
   "execution_count": 8,
   "metadata": {},
   "outputs": [
    {
     "data": {
      "text/plain": [
       "4"
      ]
     },
     "execution_count": 8,
     "metadata": {},
     "output_type": "execute_result"
    }
   ],
   "source": [
    "cars = [\n",
    "    'bmw',\n",
    "    'audi',\n",
    "    'porsche',\n",
    "    'mercedes'\n",
    "]\n",
    "len(cars)"
   ]
  },
  {
   "cell_type": "code",
   "execution_count": null,
   "metadata": {},
   "outputs": [],
   "source": []
  }
 ],
 "metadata": {
  "kernelspec": {
   "display_name": "Python 3",
   "language": "python",
   "name": "python3"
  },
  "language_info": {
   "codemirror_mode": {
    "name": "ipython",
    "version": 3
   },
   "file_extension": ".py",
   "mimetype": "text/x-python",
   "name": "python",
   "nbconvert_exporter": "python",
   "pygments_lexer": "ipython3",
   "version": "3.7.6"
  }
 },
 "nbformat": 4,
 "nbformat_minor": 4
}

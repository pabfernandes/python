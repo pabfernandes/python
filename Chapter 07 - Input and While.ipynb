{
 "cells": [
  {
   "cell_type": "code",
   "execution_count": 1,
   "metadata": {},
   "outputs": [
    {
     "name": "stdout",
     "output_type": "stream",
     "text": [
      "Tell me something, and I will repeat back to you: something\n",
      "something\n"
     ]
    }
   ],
   "source": [
    "# page 114 - parrot.py\n",
    "\n",
    "message  = input(\"Tell me something, and I will repeat back to you: \")\n",
    "print(message)"
   ]
  },
  {
   "cell_type": "code",
   "execution_count": 4,
   "metadata": {},
   "outputs": [
    {
     "name": "stdout",
     "output_type": "stream",
     "text": [
      "Please, enter your name: Paulo\n",
      "Hello, Paulo, how old are you?36\n",
      "And where are you from, PauloCorumba\n",
      "So, Paulo, you are 36 years old and from Corumba\n"
     ]
    }
   ],
   "source": [
    "name = input(\"Please, enter your name: \")\n",
    "\n",
    "age = input(f\"Hello, {name.title()}, how old are you?\")\n",
    "\n",
    "city = input(f\"And where are you from, {name.title()}\")\n",
    "\n",
    "print(f\"So, {name.title()}, you are {age} years old and from {city.title()}\")"
   ]
  },
  {
   "cell_type": "code",
   "execution_count": 2,
   "metadata": {},
   "outputs": [
    {
     "name": "stdout",
     "output_type": "stream",
     "text": [
      "1\n",
      "2\n",
      "3\n",
      "4\n",
      "5\n"
     ]
    }
   ],
   "source": [
    "# page 118 - counting.py\n",
    "\n",
    "current_number = 0\n",
    "while current_number < 5:\n",
    "    print(current_number + 1)\n",
    "    current_number += 1"
   ]
  },
  {
   "cell_type": "code",
   "execution_count": 3,
   "metadata": {},
   "outputs": [
    {
     "name": "stdout",
     "output_type": "stream",
     "text": [
      "\n",
      "Tell me something, I will repeat back to you:\n",
      "Enter 'quit' to end the program.something\n",
      "something\n",
      "\n",
      "Tell me something, I will repeat back to you:\n",
      "Enter 'quit' to end the program.tell me something\n",
      "tell me something\n",
      "\n",
      "Tell me something, I will repeat back to you:\n",
      "Enter 'quit' to end the program.quit\n",
      "quit\n"
     ]
    }
   ],
   "source": [
    "# parrot.py: Letting the user choose when to quit\n",
    "\n",
    "prompt = \"\\nTell me something, I will repeat back to you:\"\n",
    "prompt += \"\\nEnter 'quit' to end the program.\"\n",
    "\n",
    "message = \"\"\n",
    "while message != 'quit':\n",
    "    message = input(prompt)\n",
    "    print(message)"
   ]
  },
  {
   "cell_type": "code",
   "execution_count": 6,
   "metadata": {},
   "outputs": [
    {
     "name": "stdout",
     "output_type": "stream",
     "text": [
      "\n",
      "Tell me something, and I will repeat back to you\n",
      "Enter 'quit' to end the program.repeat this\n",
      "repeat this\n",
      "\n",
      "Tell me something, and I will repeat back to you\n",
      "Enter 'quit' to end the program.quit\n"
     ]
    }
   ],
   "source": [
    "# parrot.py with flag\n",
    "\n",
    "prompt = \"\\nTell me something, and I will repeat back to you\"\n",
    "prompt += \"\\nEnter 'quit' to end the program.\"\n",
    "\n",
    "active = True\n",
    "while active:\n",
    "    message = input(prompt)\n",
    "    \n",
    "    if message == 'quit':\n",
    "        active = False\n",
    "    else:\n",
    "        print(message)"
   ]
  },
  {
   "cell_type": "code",
   "execution_count": null,
   "metadata": {},
   "outputs": [],
   "source": [
    "# page 121 - cities.py\n",
    "# make a program with cities you've visited\n",
    "# with a prompt to enter quit\n",
    "\n",
    "prompt = \"\\nPlease ente"
   ]
  }
 ],
 "metadata": {
  "kernelspec": {
   "display_name": "Python 3",
   "language": "python",
   "name": "python3"
  },
  "language_info": {
   "codemirror_mode": {
    "name": "ipython",
    "version": 3
   },
   "file_extension": ".py",
   "mimetype": "text/x-python",
   "name": "python",
   "nbconvert_exporter": "python",
   "pygments_lexer": "ipython3",
   "version": "3.7.6"
  }
 },
 "nbformat": 4,
 "nbformat_minor": 4
}
